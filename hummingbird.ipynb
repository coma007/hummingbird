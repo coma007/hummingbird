{
  "cells": [
    {
      "cell_type": "markdown",
      "metadata": {
        "id": "C4HUqL6lI1FY"
      },
      "source": [
        "# **Hummingbird**\n",
        "Recognition of humming melodies.\n"
      ]
    },
    {
      "cell_type": "markdown",
      "metadata": {
        "id": "1Qi1CVu0WQwd"
      },
      "source": [
        "## **Introduction**"
      ]
    },
    {
      "cell_type": "markdown",
      "metadata": {
        "id": "5lwLxno0WXB8"
      },
      "source": [
        "\n",
        "Authors:  \n",
        "> [Nemanja Dutina](https://github.com/eXtremeNemanja)  \n",
        "> [Milica Sladaković](https://github.com/coma007)\n",
        "\n",
        "Mentor:  \n",
        "> [Branislav Anđelić](https://github.com/bandjeo)\n",
        "\n",
        "\n"
      ]
    },
    {
      "cell_type": "markdown",
      "metadata": {
        "id": "1aXVSbiwWfaF"
      },
      "source": [
        "### **Problem description**"
      ]
    },
    {
      "cell_type": "markdown",
      "source": [
        "How many times has it happened that we hear a song for the first time, but forget to find it right away? And when we remember later, only pieces remained in our heads.\n",
        "\n",
        "In order to find that song, the easiest way is to know the lyrics or at least part of the lyrics. However, that is rarely the case after the first listen. Melody, on the other hand, is much easier to remember. Therefore, it would be more convenient to find the song by humming or whistling a memorized melody. Something that Shazam offers.\n",
        "\n",
        "The goal of this project is to make ML model that will try to identify song from dataset that contains eight different melodies based on hum or whistle."
      ],
      "metadata": {
        "id": "rHV3daNK4vUW"
      }
    },
    {
      "cell_type": "markdown",
      "metadata": {
        "id": "n61bhhuMWkBf"
      },
      "source": [
        "### **Dataset**"
      ]
    },
    {
      "cell_type": "markdown",
      "source": [
        "The data source will be tunes from a few famous movies, which can be found [here](https://www.kaggle.com/datasets/jesusrequena/mlend-hums-and-whistles).  \n",
        "This data is organized into eight categories, where the categories are the following tracks: *Let it go (Frozen)*, *Hedwig's Theme (Harry Potter)*,   *Theme from the movie Pink Panther*, *Mamma Mia (Mamma Mia!)*, *Imperial March (Star Wars)*, *Theme from the movie Singing in the Rain*, *Hakuna Matata (The Lion King)* and *This is me (The Greatest Showman)*."
      ],
      "metadata": {
        "id": "92REFhxbKm8m"
      }
    },
    {
      "cell_type": "code",
      "source": [
        "classes = {'Frozen' : 0, 'Potter': 1, 'Panther' : 2, 'StarWars': 3, 'Rain': 4, 'Hakuna': 5, 'Mamma': 6, 'Showman': 7}"
      ],
      "metadata": {
        "id": "Ga2MX9S4MWQe"
      },
      "execution_count": null,
      "outputs": []
    },
    {
      "cell_type": "markdown",
      "source": [
        "\n",
        "Audio recordings are separated in 8 directories, by class. File *MLEndHWD_Audio_Attributes.csv* contains metadata of every audio recording.\n",
        "\n",
        " Original dataset was reduced to 5 GB (*dataset*) and 10 GB (*big_dataset*), because of storage limitations.\n",
        " You can use our resources from [GoogleDrive](https://drive.google.com/drive/folders/1bEoGDM4cTb4pcXJMpFkurtN4Tm0EisOK?usp=sharing)."
      ],
      "metadata": {
        "id": "G6kInpyRaWdv"
      }
    },
    {
      "cell_type": "markdown",
      "metadata": {
        "id": "ElMH_zq9W3Ce"
      },
      "source": [
        "### **Algorithms**"
      ]
    },
    {
      "cell_type": "markdown",
      "source": [
        "Data is first preprocessed. During that process, important features such as pitch, power, voiced frequency, mel spectrogram, mel frequency cepstral coefficients, chroma and contrast will be extracted. Such processed data will be split into training, testing and validation sets.\n",
        "\n",
        "We decided to create three different models and compare their performances:\n",
        "\n",
        "* **Support Vector Classifier (SVC)**\n",
        "* **Convolutional Neural Network (CNN)**\n",
        "* **Random Forest Classifier (CNN)**"
      ],
      "metadata": {
        "id": "Rjnu3hjsXwa_"
      }
    },
    {
      "cell_type": "markdown",
      "metadata": {
        "id": "zt2K9qarW9Cu"
      },
      "source": [
        "### **Metrics**"
      ]
    },
    {
      "cell_type": "markdown",
      "source": [
        "The metric will be the accuracy of recognition, that is, the percentage of classification success."
      ],
      "metadata": {
        "id": "rD4EZoNtK1k4"
      }
    },
    {
      "cell_type": "markdown",
      "metadata": {
        "id": "wT-cMCBOXAPc"
      },
      "source": [
        "### **Validation**"
      ]
    },
    {
      "cell_type": "markdown",
      "source": [
        "The data set will be divided into three parts: training (80%), validation (10%) and test (10%) set. Also, different models, or algorithms, will be compared."
      ],
      "metadata": {
        "id": "58GzRBIzLKFO"
      }
    },
    {
      "cell_type": "markdown",
      "metadata": {
        "id": "9-sCQSicWAWJ"
      },
      "source": [
        "***\n",
        "## **Requirements**"
      ]
    },
    {
      "cell_type": "markdown",
      "metadata": {
        "id": "iuIZ3oPBKTK3"
      },
      "source": [
        "Bellow are all dependencies and libraries used in this project.  \n",
        "Here are listed usages:\n",
        "- **numpy** - easier manipulation of multidimensional arrays\n",
        "- **os** & **glob**  - manipulation of file path names\n",
        "- **tqdm** - visual representation of progress bar in file preprocessing\n",
        "- **pandas** - easier manipulation of datasets and csv files\n",
        "- **librosa** - extraction of features in audio files\n",
        "- **collections** - manipulation of dataset collections\n",
        "- **matplotlib** - visual representation of data\n",
        "- **sklearn** - data scaling, segregation, model training and metrics"
      ]
    },
    {
      "cell_type": "code",
      "execution_count": null,
      "metadata": {
        "id": "PrIQfTdm-KyL"
      },
      "outputs": [],
      "source": [
        "import numpy as np\n",
        "import os\n",
        "import glob\n",
        "from tqdm import tqdm\n",
        "\n",
        "import pandas as pd\n",
        "from collections import Counter\n",
        "\n",
        "import librosa\n",
        "\n",
        "from matplotlib import pyplot\n",
        "\n",
        "from sklearn.preprocessing import StandardScaler\n",
        "from sklearn.model_selection import train_test_split\n",
        "from sklearn.svm import SVC\n",
        "from sklearn.metrics import f1_score, confusion_matrix\n",
        "from sklearn.ensemble import RandomForestClassifier\n",
        "\n",
        "import tensorflow as tf\n",
        "import keras\n",
        "from keras.models import Sequential\n",
        "from keras.layers import Dense\n"
      ]
    },
    {
      "cell_type": "markdown",
      "metadata": {
        "id": "faHziWy4Vp_l"
      },
      "source": [
        "***\n",
        "\n",
        "## **Preprocessing**"
      ]
    },
    {
      "cell_type": "markdown",
      "source": [
        "### **Data loading**"
      ],
      "metadata": {
        "id": "_hyfetTsLeL4"
      }
    },
    {
      "cell_type": "markdown",
      "metadata": {
        "id": "DSWHX0VGNeNI"
      },
      "source": [
        "In the next step, data is loaded from Google Drive."
      ]
    },
    {
      "cell_type": "code",
      "execution_count": null,
      "metadata": {
        "colab": {
          "base_uri": "https://localhost:8080/"
        },
        "id": "bR5-WlXTzmAi",
        "outputId": "8d2dc25a-46ad-4daa-e842-02d119103f56"
      },
      "outputs": [
        {
          "output_type": "stream",
          "name": "stdout",
          "text": [
            "Mounted at Hummingbird\n",
            "/content/Hummingbird\n"
          ]
        }
      ],
      "source": [
        "from google.colab import drive\n",
        "drive.mount(\"Hummingbird\")\n",
        "%cd Hummingbird"
      ]
    },
    {
      "cell_type": "code",
      "execution_count": null,
      "metadata": {
        "colab": {
          "base_uri": "https://localhost:8080/"
        },
        "id": "v-nvasxV9DH2",
        "outputId": "a1da0657-01b3-41a2-d850-ab04296eddf3"
      },
      "outputs": [
        {
          "output_type": "stream",
          "name": "stdout",
          "text": [
            "MyDrive\n",
            "/content/Hummingbird/MyDrive/Hummingbird\n",
            "big_dataset  dataset\n"
          ]
        }
      ],
      "source": [
        "!ls\n",
        "%cd MyDrive/Hummingbird/\n",
        "!ls"
      ]
    },
    {
      "cell_type": "markdown",
      "metadata": {
        "id": "If-VbyvgOskU"
      },
      "source": [
        "After the drive is mounted, data needs to be loaded.  "
      ]
    },
    {
      "cell_type": "code",
      "execution_count": null,
      "metadata": {
        "id": "lxYT_dDQ9zfB"
      },
      "outputs": [],
      "source": [
        "def load_metadata(path, data):\n",
        "    metadata = pd.read_csv(path)\n",
        "    for i in range(len(metadata[list(metadata.keys())[0]])):\n",
        "        data.append([])\n",
        "        for column in metadata:\n",
        "            data[i].append(metadata[column][i])\n"
      ]
    },
    {
      "cell_type": "code",
      "execution_count": null,
      "metadata": {
        "id": "_BUaa2ZF9xru"
      },
      "outputs": [],
      "source": [
        "def load_dataset(path):\n",
        "    data = []\n",
        "\n",
        "    full_path = os.path.join(path, \"MLEndHWD_Audio_Attributes.csv\")\n",
        "    load_metadata(full_path, data)\n",
        "\n",
        "    data_frame = pd.DataFrame(data, columns=['song_file', 'interpreter', 'label', 'audio_type'])\n",
        "    return data_frame"
      ]
    },
    {
      "cell_type": "code",
      "execution_count": null,
      "metadata": {
        "id": "KaTJFO1R-GMy"
      },
      "outputs": [],
      "source": [
        "data = load_dataset(\"big_dataset\")"
      ]
    },
    {
      "cell_type": "code",
      "execution_count": null,
      "metadata": {
        "colab": {
          "base_uri": "https://localhost:8080/",
          "height": 424
        },
        "id": "vVDfWN9f-SWy",
        "outputId": "bfb65530-1ad9-4784-e497-fe16bfa82b4a"
      },
      "outputs": [
        {
          "output_type": "execute_result",
          "data": {
            "text/plain": [
              "     song_file  interpreter   label audio_type\n",
              "0     0000.wav          216  Potter        Hum\n",
              "1     0001.wav          100  Potter        Hum\n",
              "2     0002.wav          177  Potter        Hum\n",
              "3     0003.wav          159  Potter        Hum\n",
              "4     0004.wav          160  Potter    Whistle\n",
              "...        ...          ...     ...        ...\n",
              "3995  3995.wav          169  Frozen        Hum\n",
              "3996  3996.wav          148  Frozen        Hum\n",
              "3997  3997.wav          118  Frozen        Hum\n",
              "3998  3998.wav           52  Frozen        Hum\n",
              "3999  3999.wav           54  Frozen    Whistle\n",
              "\n",
              "[4000 rows x 4 columns]"
            ],
            "text/html": [
              "\n",
              "  <div id=\"df-bdf78a4e-5e55-4622-9d8e-72acbbc7a74a\">\n",
              "    <div class=\"colab-df-container\">\n",
              "      <div>\n",
              "<style scoped>\n",
              "    .dataframe tbody tr th:only-of-type {\n",
              "        vertical-align: middle;\n",
              "    }\n",
              "\n",
              "    .dataframe tbody tr th {\n",
              "        vertical-align: top;\n",
              "    }\n",
              "\n",
              "    .dataframe thead th {\n",
              "        text-align: right;\n",
              "    }\n",
              "</style>\n",
              "<table border=\"1\" class=\"dataframe\">\n",
              "  <thead>\n",
              "    <tr style=\"text-align: right;\">\n",
              "      <th></th>\n",
              "      <th>song_file</th>\n",
              "      <th>interpreter</th>\n",
              "      <th>label</th>\n",
              "      <th>audio_type</th>\n",
              "    </tr>\n",
              "  </thead>\n",
              "  <tbody>\n",
              "    <tr>\n",
              "      <th>0</th>\n",
              "      <td>0000.wav</td>\n",
              "      <td>216</td>\n",
              "      <td>Potter</td>\n",
              "      <td>Hum</td>\n",
              "    </tr>\n",
              "    <tr>\n",
              "      <th>1</th>\n",
              "      <td>0001.wav</td>\n",
              "      <td>100</td>\n",
              "      <td>Potter</td>\n",
              "      <td>Hum</td>\n",
              "    </tr>\n",
              "    <tr>\n",
              "      <th>2</th>\n",
              "      <td>0002.wav</td>\n",
              "      <td>177</td>\n",
              "      <td>Potter</td>\n",
              "      <td>Hum</td>\n",
              "    </tr>\n",
              "    <tr>\n",
              "      <th>3</th>\n",
              "      <td>0003.wav</td>\n",
              "      <td>159</td>\n",
              "      <td>Potter</td>\n",
              "      <td>Hum</td>\n",
              "    </tr>\n",
              "    <tr>\n",
              "      <th>4</th>\n",
              "      <td>0004.wav</td>\n",
              "      <td>160</td>\n",
              "      <td>Potter</td>\n",
              "      <td>Whistle</td>\n",
              "    </tr>\n",
              "    <tr>\n",
              "      <th>...</th>\n",
              "      <td>...</td>\n",
              "      <td>...</td>\n",
              "      <td>...</td>\n",
              "      <td>...</td>\n",
              "    </tr>\n",
              "    <tr>\n",
              "      <th>3995</th>\n",
              "      <td>3995.wav</td>\n",
              "      <td>169</td>\n",
              "      <td>Frozen</td>\n",
              "      <td>Hum</td>\n",
              "    </tr>\n",
              "    <tr>\n",
              "      <th>3996</th>\n",
              "      <td>3996.wav</td>\n",
              "      <td>148</td>\n",
              "      <td>Frozen</td>\n",
              "      <td>Hum</td>\n",
              "    </tr>\n",
              "    <tr>\n",
              "      <th>3997</th>\n",
              "      <td>3997.wav</td>\n",
              "      <td>118</td>\n",
              "      <td>Frozen</td>\n",
              "      <td>Hum</td>\n",
              "    </tr>\n",
              "    <tr>\n",
              "      <th>3998</th>\n",
              "      <td>3998.wav</td>\n",
              "      <td>52</td>\n",
              "      <td>Frozen</td>\n",
              "      <td>Hum</td>\n",
              "    </tr>\n",
              "    <tr>\n",
              "      <th>3999</th>\n",
              "      <td>3999.wav</td>\n",
              "      <td>54</td>\n",
              "      <td>Frozen</td>\n",
              "      <td>Whistle</td>\n",
              "    </tr>\n",
              "  </tbody>\n",
              "</table>\n",
              "<p>4000 rows × 4 columns</p>\n",
              "</div>\n",
              "      <button class=\"colab-df-convert\" onclick=\"convertToInteractive('df-bdf78a4e-5e55-4622-9d8e-72acbbc7a74a')\"\n",
              "              title=\"Convert this dataframe to an interactive table.\"\n",
              "              style=\"display:none;\">\n",
              "        \n",
              "  <svg xmlns=\"http://www.w3.org/2000/svg\" height=\"24px\"viewBox=\"0 0 24 24\"\n",
              "       width=\"24px\">\n",
              "    <path d=\"M0 0h24v24H0V0z\" fill=\"none\"/>\n",
              "    <path d=\"M18.56 5.44l.94 2.06.94-2.06 2.06-.94-2.06-.94-.94-2.06-.94 2.06-2.06.94zm-11 1L8.5 8.5l.94-2.06 2.06-.94-2.06-.94L8.5 2.5l-.94 2.06-2.06.94zm10 10l.94 2.06.94-2.06 2.06-.94-2.06-.94-.94-2.06-.94 2.06-2.06.94z\"/><path d=\"M17.41 7.96l-1.37-1.37c-.4-.4-.92-.59-1.43-.59-.52 0-1.04.2-1.43.59L10.3 9.45l-7.72 7.72c-.78.78-.78 2.05 0 2.83L4 21.41c.39.39.9.59 1.41.59.51 0 1.02-.2 1.41-.59l7.78-7.78 2.81-2.81c.8-.78.8-2.07 0-2.86zM5.41 20L4 18.59l7.72-7.72 1.47 1.35L5.41 20z\"/>\n",
              "  </svg>\n",
              "      </button>\n",
              "      \n",
              "  <style>\n",
              "    .colab-df-container {\n",
              "      display:flex;\n",
              "      flex-wrap:wrap;\n",
              "      gap: 12px;\n",
              "    }\n",
              "\n",
              "    .colab-df-convert {\n",
              "      background-color: #E8F0FE;\n",
              "      border: none;\n",
              "      border-radius: 50%;\n",
              "      cursor: pointer;\n",
              "      display: none;\n",
              "      fill: #1967D2;\n",
              "      height: 32px;\n",
              "      padding: 0 0 0 0;\n",
              "      width: 32px;\n",
              "    }\n",
              "\n",
              "    .colab-df-convert:hover {\n",
              "      background-color: #E2EBFA;\n",
              "      box-shadow: 0px 1px 2px rgba(60, 64, 67, 0.3), 0px 1px 3px 1px rgba(60, 64, 67, 0.15);\n",
              "      fill: #174EA6;\n",
              "    }\n",
              "\n",
              "    [theme=dark] .colab-df-convert {\n",
              "      background-color: #3B4455;\n",
              "      fill: #D2E3FC;\n",
              "    }\n",
              "\n",
              "    [theme=dark] .colab-df-convert:hover {\n",
              "      background-color: #434B5C;\n",
              "      box-shadow: 0px 1px 3px 1px rgba(0, 0, 0, 0.15);\n",
              "      filter: drop-shadow(0px 1px 2px rgba(0, 0, 0, 0.3));\n",
              "      fill: #FFFFFF;\n",
              "    }\n",
              "  </style>\n",
              "\n",
              "      <script>\n",
              "        const buttonEl =\n",
              "          document.querySelector('#df-bdf78a4e-5e55-4622-9d8e-72acbbc7a74a button.colab-df-convert');\n",
              "        buttonEl.style.display =\n",
              "          google.colab.kernel.accessAllowed ? 'block' : 'none';\n",
              "\n",
              "        async function convertToInteractive(key) {\n",
              "          const element = document.querySelector('#df-bdf78a4e-5e55-4622-9d8e-72acbbc7a74a');\n",
              "          const dataTable =\n",
              "            await google.colab.kernel.invokeFunction('convertToInteractive',\n",
              "                                                     [key], {});\n",
              "          if (!dataTable) return;\n",
              "\n",
              "          const docLinkHtml = 'Like what you see? Visit the ' +\n",
              "            '<a target=\"_blank\" href=https://colab.research.google.com/notebooks/data_table.ipynb>data table notebook</a>'\n",
              "            + ' to learn more about interactive tables.';\n",
              "          element.innerHTML = '';\n",
              "          dataTable['output_type'] = 'display_data';\n",
              "          await google.colab.output.renderOutput(dataTable, element);\n",
              "          const docLink = document.createElement('div');\n",
              "          docLink.innerHTML = docLinkHtml;\n",
              "          element.appendChild(docLink);\n",
              "        }\n",
              "      </script>\n",
              "    </div>\n",
              "  </div>\n",
              "  "
            ]
          },
          "metadata": {},
          "execution_count": 8
        }
      ],
      "source": [
        "data"
      ]
    },
    {
      "cell_type": "markdown",
      "source": [
        "### **Feature extraction**"
      ],
      "metadata": {
        "id": "nhr-rAWFLkl8"
      }
    },
    {
      "cell_type": "markdown",
      "metadata": {
        "id": "4F20P0kBQiD0"
      },
      "source": [
        "After loading audio files, it is time to get meaningful features. After some research, we decided to extract the following features from audio files:\n",
        "* **Pitch** - Perceived frequency or tone of a sound. It determines whether a sound is high or low, and is often associated with the musical concept of melody and harmony.\n",
        "* **Power** - Amount of energy or amplitude contained in a sound wave. It quantifies the loudness or intensity of the audio signal, and is measured in decibels (dB) to represent the relative power level.\n",
        "* **Voiced frequency** - Fundamental frequency of a sound produced by vocal cord vibrations during speech or singing. It represents the perceived pitch of the voice and is responsible for creating the distinct tonal quality of human speech and singing.\n",
        "* **Mel Spectrogram** - Non-linear scale that emphasizes the lower frequencies, corresponding more closely to human perception of pitch and providing a more accurate representation of how humans perceive different frequencies.\n",
        "* **Mel Frequency Cepstral Coefficients (MFCCs)** - Captures the spectral characteristics of a sound by transforming the frequency domain into a mel-scale, and then computing a set of coefficients that represent the shape of the power spectrum.\n",
        "* **Chroma** - Musical attribute that captures the tonal content and harmonic information of a sound. It represents the distribution of pitch classes (or musical notes) in a given audio segment, disregarding octave differences.\n",
        "* **Contrast** - Dynamic range or variation in loudness between different parts or sections of a sound. It measures the difference in amplitude or intensity, highlighting the level of distinction between quieter and louder elements within an audio signal.\n",
        "\n",
        "Before extracting these features, important step is to extract the following measurements from audio file:\n",
        "* **Fundamental frequency** - Lowest frequency component of a complex sound wave that determines its perceived pitch. It represents the rate at which the sound wave repeats and corresponds to the frequency of the fundamental harmonic, which is typically the loudest and most prominent component of the sound.\n",
        "* **Voiced flag** - Parameter used in speech processing to determine if a particular segment of audio is voiced or unvoiced. It is computed based on the presence or absence of human voice in the signal.\n",
        "* **Short-time Fourier transform** - Signal processing technique used to analyze the frequency content of a time-varying signal. It breaks down the signal into short, overlapping segments and calculates the Fourier Transform for each segment, providing a representation of how the frequency content of the signal changes over time."
      ]
    },
    {
      "cell_type": "code",
      "source": [
        "def scale_audio(audio_data):\n",
        "    return audio_data/np.max(np.abs(audio_data))"
      ],
      "metadata": {
        "id": "eRDSukMLOKhW"
      },
      "execution_count": 19,
      "outputs": []
    },
    {
      "cell_type": "code",
      "source": [
        "def get_file_metadata(file, metadata_file):\n",
        "    fileID = int(file.split('/')[-1].split('.')[0])\n",
        "    file_name = file.split('/')[-1]\n",
        "    audio_type = metadata_file.loc[fileID]['audio_type'] == 'hum'\n",
        "    label = classes[metadata_file.loc[fileID]['label']]\n",
        "\n",
        "    return fileID, file_name, audio_type, label"
      ],
      "metadata": {
        "id": "q_odirWxMrig"
      },
      "execution_count": 20,
      "outputs": []
    },
    {
      "cell_type": "code",
      "execution_count": 21,
      "metadata": {
        "id": "SE5pHZRk_M-H"
      },
      "outputs": [],
      "source": [
        "def get_pitch(audio_data, sample_rate, window_length=0.02):\n",
        "    p = window_length * sample_rate\n",
        "    frame_length = int(2**int(p-1).bit_length())\n",
        "    hop_length = frame_length//2\n",
        "    fundamental_frequency, voiced_flag, voiced_probabilities = librosa.pyin(\n",
        "        y=audio_data, fmin=80, fmax=450, sr=sample_rate, frame_length=frame_length, hop_length=hop_length)\n",
        "    return fundamental_frequency, voiced_flag"
      ]
    },
    {
      "cell_type": "code",
      "source": [
        "def get_pitch_statistics(fundamental_frequency):\n",
        "    pitch_mean = np.nanmean(fundamental_frequency) if np.mean(np.isnan(fundamental_frequency)) < 1 else 0\n",
        "    pitch_std = np.nanstd(fundamental_frequency) if np.mean(np.isnan(fundamental_frequency)) < 1 else 0\n",
        "    return pitch_mean, pitch_std"
      ],
      "metadata": {
        "id": "wczyKATnNVe7"
      },
      "execution_count": 22,
      "outputs": []
    },
    {
      "cell_type": "code",
      "source": [
        "def get_power(audio_data):\n",
        "    return np.sum(audio_data**2)/len(audio_data)"
      ],
      "metadata": {
        "id": "k_riuTdhOeev"
      },
      "execution_count": 23,
      "outputs": []
    },
    {
      "cell_type": "code",
      "source": [
        "def get_voiced_frequency(voiced_flag):\n",
        "    return np.mean(voiced_flag)"
      ],
      "metadata": {
        "id": "g_v0xp2bN7-r"
      },
      "execution_count": 24,
      "outputs": []
    },
    {
      "cell_type": "code",
      "source": [
        "def get_stft(audio_data):\n",
        "    return np.abs(librosa.stft(audio_data))"
      ],
      "metadata": {
        "id": "gaB2W5RGO9HP"
      },
      "execution_count": 25,
      "outputs": []
    },
    {
      "cell_type": "code",
      "source": [
        "def get_mfcc(audio_data, sample_rate):\n",
        "    return np.mean(librosa.feature.mfcc(y=audio_data, sr=sample_rate, n_mfcc=40).T, axis=0)"
      ],
      "metadata": {
        "id": "uuUWPC3OPQsQ"
      },
      "execution_count": 26,
      "outputs": []
    },
    {
      "cell_type": "code",
      "source": [
        "def get_chroma(stft, sample_rate):\n",
        "    return np.mean(librosa.feature.chroma_stft(S=stft, sr=sample_rate).T, axis=0)"
      ],
      "metadata": {
        "id": "vp7HwEmtPhUD"
      },
      "execution_count": 27,
      "outputs": []
    },
    {
      "cell_type": "code",
      "source": [
        "def get_mel_spectrogram(audio_data, sample_rate):\n",
        "    return np.mean(librosa.feature.melspectrogram(y=audio_data, sr=sample_rate).T, axis=0)"
      ],
      "metadata": {
        "id": "Nvw00viyP5my"
      },
      "execution_count": 28,
      "outputs": []
    },
    {
      "cell_type": "code",
      "source": [
        "def get_contrast(stft, sample_rate):\n",
        "    return np.mean(librosa.feature.spectral_contrast(S=stft, sr=sample_rate).T,axis=0)"
      ],
      "metadata": {
        "id": "EWXX-9AsSank"
      },
      "execution_count": 29,
      "outputs": []
    },
    {
      "cell_type": "code",
      "execution_count": 30,
      "metadata": {
        "id": "veWWZEk1_QJF"
      },
      "outputs": [],
      "source": [
        "def get_features(files, metadata_file, scale=False):\n",
        "\n",
        "    features, audio_types, labels = [], [], []\n",
        "\n",
        "    for file in tqdm(files):\n",
        "\n",
        "        fileID, file_name, audio_type, label = get_file_metadata(file, metadata_file)\n",
        "        file_features = []\n",
        "\n",
        "        sample_rate = None   # file collecting sample rate\n",
        "        audio_data, sample_rate = librosa.load(file, sr=sample_rate)\n",
        "\n",
        "        if scale:\n",
        "            audio_data = scale_audio(audio_data)\n",
        "\n",
        "        # Fundamental frequency and frames with voice\n",
        "        fundamental_frequency, voiced_flag = get_pitch(audio_data, sample_rate, window_length=0.02)\n",
        "\n",
        "        # Base features - pitch, power, frequency of voice\n",
        "        pitch_mean, pitch_std = get_pitch_statistics(fundamental_frequency)\n",
        "        power = get_power(audio_data)\n",
        "        voiced_frequency = get_voiced_frequency(voiced_flag)\n",
        "        base_features = [power, pitch_mean, pitch_std, voiced_frequency]\n",
        "        file_features.extend(base_features)\n",
        "\n",
        "        # Short-time Fourier transform\n",
        "        stft = get_stft(audio_data)\n",
        "\n",
        "        # Advanced features - mel frequency cepstral coefficients, chroma, mel scale, contrast\n",
        "        file_features.extend(get_mfcc(audio_data, sample_rate))\n",
        "        file_features.extend(get_chroma(stft, sample_rate))\n",
        "        file_features.extend(get_mel_spectrogram(audio_data, sample_rate))\n",
        "        file_features.extend(get_contrast(stft, sample_rate))\n",
        "\n",
        "        features.append(file_features)\n",
        "        audio_types.append(audio_type)  # interpretation label\n",
        "        labels.append(label)  # song label\n",
        "\n",
        "    return np.array(features), np.array(audio_types), np.array(labels)\n",
        "\n"
      ]
    },
    {
      "cell_type": "markdown",
      "metadata": {
        "id": "gxQl44-TVfLJ"
      },
      "source": [
        "\n",
        "Extraction of features is followed by scaling and standardization of data.  \n",
        "Audio features are saved in csv file so that the data does not need to be loaded every time, because it is time consuming."
      ]
    },
    {
      "cell_type": "code",
      "execution_count": 31,
      "metadata": {
        "id": "X7b54pJ__TTW"
      },
      "outputs": [],
      "source": [
        "def scale_data(data, audio_types, labels):\n",
        "    scaler = StandardScaler()  # define standard scaler\n",
        "\n",
        "    scaled = scaler.fit_transform(data)  # transform data\n",
        "\n",
        "    # converting the scaled features into a pandas data frame\n",
        "    all_features = pd.DataFrame(scaled)\n",
        "    all_features['audio_type'] = audio_types\n",
        "    all_features['label'] = labels\n",
        "\n",
        "    return all_features\n"
      ]
    },
    {
      "cell_type": "code",
      "execution_count": 32,
      "metadata": {
        "id": "SyscrgAE_IPH"
      },
      "outputs": [],
      "source": [
        "def prepare_dataset(data, filepaths):\n",
        "    features, audio_types, labels = get_features(filepaths, metadata_file=data,\n",
        "                           scale=True)\n",
        "    all_features = scale_data(features, audio_types, labels)\n",
        "\n",
        "    # Saving the features into a csv for future reference\n",
        "    all_features.to_csv('big_dataset/features.csv')\n",
        "\n",
        "    counter = Counter(labels)\n",
        "    unique_labels = list(counter.keys())"
      ]
    },
    {
      "cell_type": "code",
      "execution_count": null,
      "metadata": {
        "id": "kTKoO1OW-ZKz"
      },
      "outputs": [],
      "source": [
        "filepaths = []\n",
        "for label in (data[\"label\"].unique()):\n",
        "    filepaths += sorted(glob.glob(f\"big_dataset/*{label}*/*.wav\"))"
      ]
    },
    {
      "cell_type": "code",
      "execution_count": null,
      "metadata": {
        "id": "AbsriWeT_alC"
      },
      "outputs": [],
      "source": [
        "prepare_dataset(data, filepaths)"
      ]
    },
    {
      "cell_type": "markdown",
      "source": [
        "This process can took as long as few hours. Therefore, once the data is preprocessed and features are extracted, all information is saved to corresponding csv file."
      ],
      "metadata": {
        "id": "MDZRO6DamhO6"
      }
    },
    {
      "cell_type": "markdown",
      "source": [
        "***\n",
        "## **Training**"
      ],
      "metadata": {
        "id": "hWBL6MANoRZS"
      }
    },
    {
      "cell_type": "markdown",
      "source": [
        "### **Data segregation**"
      ],
      "metadata": {
        "id": "V-HeR_fjmLmL"
      }
    },
    {
      "cell_type": "markdown",
      "metadata": {
        "id": "q5EqwnvpXWnz"
      },
      "source": [
        "After the dataset is prepared, it is time for data segregation into training, testing and validation sets."
      ]
    },
    {
      "cell_type": "code",
      "execution_count": null,
      "metadata": {
        "id": "ScGf0IxCs0OX"
      },
      "outputs": [],
      "source": [
        "features = pd.read_csv(\"/content/drive/MyDrive/Hummingbird/big_dataset/features.csv\")"
      ]
    },
    {
      "cell_type": "code",
      "execution_count": null,
      "metadata": {
        "id": "jHBYlEwittMQ"
      },
      "outputs": [],
      "source": [
        "audio_features = features.iloc[:,0:192].values\n",
        "audio_label = features[\"label\"].values"
      ]
    },
    {
      "cell_type": "code",
      "execution_count": null,
      "metadata": {
        "id": "rXFCeDIdvQY7"
      },
      "outputs": [],
      "source": [
        "features_training, features_testing, label_training, label_testing = train_test_split(audio_features, audio_label, test_size=0.8)"
      ]
    },
    {
      "cell_type": "code",
      "execution_count": null,
      "metadata": {
        "id": "84u8h0cbv8OA"
      },
      "outputs": [],
      "source": [
        "features_validation, features_testing,  label_validation,  label_testing = train_test_split(features_testing, label_testing, test_size=0.5)"
      ]
    },
    {
      "cell_type": "markdown",
      "source": [
        "### **Confusion Matrix**"
      ],
      "metadata": {
        "id": "uXkmrf-aox5q"
      }
    },
    {
      "cell_type": "markdown",
      "source": [
        "A confusion matrix is a table that summarizes the performance of a classification model. It provides a comprehensive view of the model's predictions by comparing them to the actual class labels of the data. The matrix consists of rows and columns representing the predicted and actual classes, respectively. The entries in the matrix represent the counts or proportions of instances that fall into different combinations of predicted and actual classes. A confusion matrix is a valuable tool for assessing the accuracy, precision, recall, and other performance metrics of a classification model.\n",
        "\n",
        "Bellow is code for plotting such matrix."
      ],
      "metadata": {
        "id": "KJt-LTDWo32w"
      }
    },
    {
      "cell_type": "code",
      "execution_count": null,
      "metadata": {
        "id": "O72n7vDbAuG5"
      },
      "outputs": [],
      "source": [
        "def plot_confusion_matrix(cm):\n",
        "    fig, ax = pyplot.subplots()\n",
        "    im = ax.imshow(cm, interpolation='nearest', cmap=pyplot.cm.Blues)\n",
        "    ax.figure.colorbar(im, ax=ax)\n",
        "    ax.set(xticks=np.arange(cm.shape[1]),\n",
        "           yticks=np.arange(cm.shape[0]),\n",
        "           xticklabels=classes.keys(),\n",
        "           yticklabels=classes.keys(),\n",
        "           title=\"Confusion Matrix\",\n",
        "           ylabel='True label',\n",
        "           xlabel='Predicted label')\n",
        "    ax.set_ylim(len(classes.keys())-0.5, -0.5)\n",
        "    ax.set_aspect('auto')\n",
        "\n",
        "    pyplot.setp(ax.get_xticklabels(), rotation=45, ha=\"right\", rotation_mode=\"anchor\")\n",
        "\n",
        "    thresh = cm.max() / 2.\n",
        "    for i in range(cm.shape[0]):\n",
        "        for j in range(cm.shape[1]):\n",
        "            ax.text(j, i, format(cm[i, j], 'd'),\n",
        "                    ha=\"center\", va=\"center\",\n",
        "                    color=\"white\" if cm[i, j] > thresh else \"black\")\n",
        "\n",
        "    pyplot.grid(None)\n",
        "    pyplot.show()\n"
      ]
    },
    {
      "cell_type": "markdown",
      "source": [
        "### **Support vector classifier (SVC)**\n"
      ],
      "metadata": {
        "id": "IZ5Cx2Qk_0IU"
      }
    },
    {
      "cell_type": "markdown",
      "source": [
        "Support vector classifier (SVC) is a specific type of support vector machine (SVM). The SVC model aims to find an optimal hyperplane that separates the different classes in the feature space while maximizing the margin, similar to SVM. It achieves this by solving a quadratic optimization problem. The decision boundary is defined by a subset of the training samples called support vectors, which lie closest to the hyperplane or are within the margin.  \n",
        "SVC models often use a regularization parameter (*C*) that controls the trade-off between achieving a larger margin and allowing some misclassifications. Higher values of C result in a smaller margin but fewer misclassifications, while lower values of C lead to a larger margin but potentially more misclassifications.  \n",
        "Once the SVC model is trained, it can classify new, unseen data points by determining which side of the decision boundary they fall on. The predicted class is assigned based on the region of the decision boundary in which the data point resides."
      ],
      "metadata": {
        "id": "hZDuLNNmnaFQ"
      }
    },
    {
      "cell_type": "code",
      "execution_count": null,
      "metadata": {
        "colab": {
          "base_uri": "https://localhost:8080/",
          "height": 75
        },
        "id": "iTCdGZBjwQD4",
        "outputId": "df0efb66-f62d-4390-82de-b5d164671f00"
      },
      "outputs": [
        {
          "output_type": "execute_result",
          "data": {
            "text/plain": [
              "SVC(C=1)"
            ],
            "text/html": [
              "<style>#sk-container-id-1 {color: black;background-color: white;}#sk-container-id-1 pre{padding: 0;}#sk-container-id-1 div.sk-toggleable {background-color: white;}#sk-container-id-1 label.sk-toggleable__label {cursor: pointer;display: block;width: 100%;margin-bottom: 0;padding: 0.3em;box-sizing: border-box;text-align: center;}#sk-container-id-1 label.sk-toggleable__label-arrow:before {content: \"▸\";float: left;margin-right: 0.25em;color: #696969;}#sk-container-id-1 label.sk-toggleable__label-arrow:hover:before {color: black;}#sk-container-id-1 div.sk-estimator:hover label.sk-toggleable__label-arrow:before {color: black;}#sk-container-id-1 div.sk-toggleable__content {max-height: 0;max-width: 0;overflow: hidden;text-align: left;background-color: #f0f8ff;}#sk-container-id-1 div.sk-toggleable__content pre {margin: 0.2em;color: black;border-radius: 0.25em;background-color: #f0f8ff;}#sk-container-id-1 input.sk-toggleable__control:checked~div.sk-toggleable__content {max-height: 200px;max-width: 100%;overflow: auto;}#sk-container-id-1 input.sk-toggleable__control:checked~label.sk-toggleable__label-arrow:before {content: \"▾\";}#sk-container-id-1 div.sk-estimator input.sk-toggleable__control:checked~label.sk-toggleable__label {background-color: #d4ebff;}#sk-container-id-1 div.sk-label input.sk-toggleable__control:checked~label.sk-toggleable__label {background-color: #d4ebff;}#sk-container-id-1 input.sk-hidden--visually {border: 0;clip: rect(1px 1px 1px 1px);clip: rect(1px, 1px, 1px, 1px);height: 1px;margin: -1px;overflow: hidden;padding: 0;position: absolute;width: 1px;}#sk-container-id-1 div.sk-estimator {font-family: monospace;background-color: #f0f8ff;border: 1px dotted black;border-radius: 0.25em;box-sizing: border-box;margin-bottom: 0.5em;}#sk-container-id-1 div.sk-estimator:hover {background-color: #d4ebff;}#sk-container-id-1 div.sk-parallel-item::after {content: \"\";width: 100%;border-bottom: 1px solid gray;flex-grow: 1;}#sk-container-id-1 div.sk-label:hover label.sk-toggleable__label {background-color: #d4ebff;}#sk-container-id-1 div.sk-serial::before {content: \"\";position: absolute;border-left: 1px solid gray;box-sizing: border-box;top: 0;bottom: 0;left: 50%;z-index: 0;}#sk-container-id-1 div.sk-serial {display: flex;flex-direction: column;align-items: center;background-color: white;padding-right: 0.2em;padding-left: 0.2em;position: relative;}#sk-container-id-1 div.sk-item {position: relative;z-index: 1;}#sk-container-id-1 div.sk-parallel {display: flex;align-items: stretch;justify-content: center;background-color: white;position: relative;}#sk-container-id-1 div.sk-item::before, #sk-container-id-1 div.sk-parallel-item::before {content: \"\";position: absolute;border-left: 1px solid gray;box-sizing: border-box;top: 0;bottom: 0;left: 50%;z-index: -1;}#sk-container-id-1 div.sk-parallel-item {display: flex;flex-direction: column;z-index: 1;position: relative;background-color: white;}#sk-container-id-1 div.sk-parallel-item:first-child::after {align-self: flex-end;width: 50%;}#sk-container-id-1 div.sk-parallel-item:last-child::after {align-self: flex-start;width: 50%;}#sk-container-id-1 div.sk-parallel-item:only-child::after {width: 0;}#sk-container-id-1 div.sk-dashed-wrapped {border: 1px dashed gray;margin: 0 0.4em 0.5em 0.4em;box-sizing: border-box;padding-bottom: 0.4em;background-color: white;}#sk-container-id-1 div.sk-label label {font-family: monospace;font-weight: bold;display: inline-block;line-height: 1.2em;}#sk-container-id-1 div.sk-label-container {text-align: center;}#sk-container-id-1 div.sk-container {/* jupyter's `normalize.less` sets `[hidden] { display: none; }` but bootstrap.min.css set `[hidden] { display: none !important; }` so we also need the `!important` here to be able to override the default hidden behavior on the sphinx rendered scikit-learn.org. See: https://github.com/scikit-learn/scikit-learn/issues/21755 */display: inline-block !important;position: relative;}#sk-container-id-1 div.sk-text-repr-fallback {display: none;}</style><div id=\"sk-container-id-1\" class=\"sk-top-container\"><div class=\"sk-text-repr-fallback\"><pre>SVC(C=1)</pre><b>In a Jupyter environment, please rerun this cell to show the HTML representation or trust the notebook. <br />On GitHub, the HTML representation is unable to render, please try loading this page with nbviewer.org.</b></div><div class=\"sk-container\" hidden><div class=\"sk-item\"><div class=\"sk-estimator sk-toggleable\"><input class=\"sk-toggleable__control sk-hidden--visually\" id=\"sk-estimator-id-1\" type=\"checkbox\" checked><label for=\"sk-estimator-id-1\" class=\"sk-toggleable__label sk-toggleable__label-arrow\">SVC</label><div class=\"sk-toggleable__content\"><pre>SVC(C=1)</pre></div></div></div></div></div>"
            ]
          },
          "metadata": {},
          "execution_count": 11
        }
      ],
      "source": [
        "svc_model = SVC(C=1)\n",
        "svc_model.fit(features_training, label_training)"
      ]
    },
    {
      "cell_type": "code",
      "execution_count": null,
      "metadata": {
        "id": "CCyXko4nx_A8"
      },
      "outputs": [],
      "source": [
        "svc_label_training_prediction = svc_model.predict(features_training)\n",
        "svc_label_testing_prediction = svc_model.predict(features_testing)\n",
        "svc_label_validation_prediction = svc_model.predict(features_validation)"
      ]
    },
    {
      "cell_type": "code",
      "execution_count": null,
      "metadata": {
        "colab": {
          "base_uri": "https://localhost:8080/"
        },
        "id": "_TKAwYuIydQF",
        "outputId": "b9824d77-e641-4089-a3a6-7e87e8f405e1"
      },
      "outputs": [
        {
          "output_type": "stream",
          "name": "stdout",
          "text": [
            "Training Accuracy: 0.9625\n",
            "Testing  Accuracy: 0.951875\n",
            "Validation  Accuracy: 0.96375\n",
            "The support vectors shape: (664, 192)\n"
          ]
        }
      ],
      "source": [
        "print('Training Accuracy:', np.mean(svc_label_training_prediction==label_training))\n",
        "print('Testing  Accuracy:', np.mean(svc_label_testing_prediction==label_testing))\n",
        "print('Validation  Accuracy:', np.mean(svc_label_validation_prediction==label_validation))\n",
        "print('The support vectors shape:', svc_model.support_vectors_.shape)"
      ]
    },
    {
      "cell_type": "code",
      "execution_count": null,
      "metadata": {
        "colab": {
          "base_uri": "https://localhost:8080/"
        },
        "id": "tbnm618hDXhD",
        "outputId": "909df7d6-dae4-4379-826b-ab0760051566"
      },
      "outputs": [
        {
          "output_type": "stream",
          "name": "stdout",
          "text": [
            "Training F1 score: 0.9625000000000001\n",
            "Testing  F1 score: 0.951875\n",
            "Validation  F1 score: 0.96375\n"
          ]
        }
      ],
      "source": [
        "print('Training F1 score:', f1_score(label_training.tolist(), svc_label_training_prediction, average='micro'))\n",
        "print('Testing  F1 score:', f1_score(label_testing.tolist(), svc_label_testing_prediction, average='micro'))\n",
        "print('Validation  F1 score:', f1_score(label_validation.tolist(), svc_label_validation_prediction, average='micro'))"
      ]
    },
    {
      "cell_type": "code",
      "execution_count": null,
      "metadata": {
        "colab": {
          "base_uri": "https://localhost:8080/",
          "height": 516
        },
        "id": "QRnLk4GUBIKg",
        "outputId": "1545e6d4-7138-47ce-fb76-05aa92a6dad4"
      },
      "outputs": [
        {
          "output_type": "display_data",
          "data": {
            "text/plain": [
              "<Figure size 640x480 with 2 Axes>"
            ],
            "image/png": "[encoded data removed]"
          },
          "metadata": {}
        }
      ],
      "source": [
        "svc_cm = confusion_matrix(label_validation, svc_label_validation_prediction)\n",
        "plot_confusion_matrix(svc_cm)"
      ]
    },
    {
      "cell_type": "markdown",
      "source": [
        "### **Convolutional Neural Network (CNN)**"
      ],
      "metadata": {
        "id": "eH0PNJ-F_3tM"
      }
    },
    {
      "cell_type": "markdown",
      "source": [
        "A Convolutional Neural Network (CNN), is a type of deep learning model designed specifically for analyzing visual data, such as images or videos.   \n",
        "It is inspired by the human visual system and employs multiple layers of specialized filters to extract features from the input data. These filters perform convolutions, combining neighboring pixels to capture patterns and spatial relationships.  \n"
      ],
      "metadata": {
        "id": "YtCoJ47qqRkY"
      }
    },
    {
      "cell_type": "markdown",
      "source": [
        "*Epoch* refers to a complete pass or iteration over the entire training dataset during the training phase. During each epoch, the model is presented with the entire dataset, and the weights of the network are updated based on the calculated loss or error.\n",
        "\n",
        "*Batch size* refers to the number of samples that are processed together in one forward and backward pass during each training iteration. To efficiently process large datasets, the training data is often divided into smaller subsets called mini-batches. During the training process, the model updates its weights based on the gradients calculated from a batch of samples.\n",
        "\n",
        "*Optimizer* is an algorithm or method used to adjust the weights and biases of the network during the training process. The optimizer plays a crucial role in updating the model's parameters to minimize the loss and improve the network's performance. During the training process, the CNN model generates predictions for the input data. These predictions are compared with the actual labels using a loss function that measures the difference between the predicted and true values. After that, model gradients of the loss function is calculated. These gradients indicate the direction and magnitude of the change needed to minimize the loss. The optimizer takes the calculated gradients and adjusts the weights and biases of the CNN model. We used Adam optimizer (Adaptive Moment Estimation). Adam is an adaptive optimization algorithm that maintains learning rates for individual weights by calculating adaptive learning rates for each parameter."
      ],
      "metadata": {
        "id": "C7XiPuVQtOgI"
      }
    },
    {
      "cell_type": "code",
      "execution_count": null,
      "metadata": {
        "id": "FxzqQqIicApr"
      },
      "outputs": [],
      "source": [
        "epochs = 60\n",
        "batch_size = 3\n",
        "optimizer = tf.keras.optimizers.Adam(learning_rate=0.001, beta_1=0.9, beta_2=0.999, amsgrad=False)"
      ]
    },
    {
      "cell_type": "markdown",
      "source": [
        "The convolutional layers are the core building blocks of a CNN. Each layer consists of multiple filters that convolve over the input. Convolution involves element-wise multiplication between the filter and a local region of the input, followed by summing the results to produce a single value. This process is repeated for different regions of the input, resulting in a feature map that captures local patterns and structures.     \n",
        "After each convolution operation, an activation function is applied to introduce non-linearity into the model. We used one of the most common activation functions named ReLU (Rectified Linear Unit), which sets negative values to zero and keeps positive values unchanged.\n",
        "The final layer of the CNN produces the desired output. In our case, the output layer consists of neurons representing eight different classes, and the highest activation indicates the predicted class for the input."
      ],
      "metadata": {
        "id": "Qo7-B-3zqn0F"
      }
    },
    {
      "cell_type": "code",
      "execution_count": null,
      "metadata": {
        "id": "C-u2S1MxdO11"
      },
      "outputs": [],
      "source": [
        "cnn_model = Sequential()\n",
        "cnn_model.add(Dense(1024, activation='relu', input_dim=features_training.shape[1]))\n",
        "cnn_model.add(Dense(512, activation='relu'))\n",
        "cnn_model.add(Dense(256, activation='relu'))\n",
        "cnn_model.add(Dense(128, activation='relu'))\n",
        "cnn_model.add(Dense(64, activation='relu'))\n",
        "cnn_model.add(Dense(8, activation='softmax'))\n",
        "\n",
        "cnn_model.compile(loss='sparse_categorical_crossentropy', optimizer=optimizer, metrics=['accuracy'])"
      ]
    },
    {
      "cell_type": "code",
      "execution_count": null,
      "metadata": {
        "colab": {
          "base_uri": "https://localhost:8080/"
        },
        "id": "86-YQm8jdyCw",
        "outputId": "485eaf13-1f5a-417c-af4f-86b49441ab88"
      },
      "outputs": [
        {
          "output_type": "stream",
          "name": "stdout",
          "text": [
            "Epoch 1/60\n",
            "400/400 - 9s - loss: 6.6215 - accuracy: 0.1325 - val_loss: 2.1848 - val_accuracy: 0.1607 - 9s/epoch - 23ms/step\n",
            "Epoch 2/60\n",
            "400/400 - 5s - loss: 1.9443 - accuracy: 0.2200 - val_loss: 1.8412 - val_accuracy: 0.3279 - 5s/epoch - 13ms/step\n",
            "Epoch 3/60\n",
            "400/400 - 6s - loss: 1.8058 - accuracy: 0.2992 - val_loss: 1.6217 - val_accuracy: 0.3021 - 6s/epoch - 16ms/step\n",
            "Epoch 4/60\n",
            "400/400 - 6s - loss: 1.6271 - accuracy: 0.3808 - val_loss: 1.4697 - val_accuracy: 0.3964 - 6s/epoch - 14ms/step\n",
            "Epoch 5/60\n",
            "400/400 - 6s - loss: 1.4619 - accuracy: 0.4258 - val_loss: 1.3343 - val_accuracy: 0.4671 - 6s/epoch - 16ms/step\n",
            "Epoch 6/60\n",
            "400/400 - 5s - loss: 1.3805 - accuracy: 0.4600 - val_loss: 1.4257 - val_accuracy: 0.4171 - 5s/epoch - 13ms/step\n",
            "Epoch 7/60\n",
            "400/400 - 6s - loss: 1.3305 - accuracy: 0.4825 - val_loss: 1.1363 - val_accuracy: 0.5593 - 6s/epoch - 14ms/step\n",
            "Epoch 8/60\n",
            "400/400 - 7s - loss: 1.1461 - accuracy: 0.5583 - val_loss: 1.2695 - val_accuracy: 0.4329 - 7s/epoch - 17ms/step\n",
            "Epoch 9/60\n",
            "400/400 - 6s - loss: 1.0139 - accuracy: 0.6058 - val_loss: 0.9764 - val_accuracy: 0.4929 - 6s/epoch - 14ms/step\n",
            "Epoch 10/60\n",
            "400/400 - 7s - loss: 0.9316 - accuracy: 0.6217 - val_loss: 0.7867 - val_accuracy: 0.6979 - 7s/epoch - 16ms/step\n",
            "Epoch 11/60\n",
            "400/400 - 7s - loss: 0.8412 - accuracy: 0.6433 - val_loss: 0.8221 - val_accuracy: 0.6236 - 7s/epoch - 18ms/step\n",
            "Epoch 12/60\n",
            "400/400 - 11s - loss: 0.7905 - accuracy: 0.6492 - val_loss: 0.7590 - val_accuracy: 0.7207 - 11s/epoch - 27ms/step\n",
            "Epoch 13/60\n",
            "400/400 - 9s - loss: 0.7429 - accuracy: 0.6858 - val_loss: 0.6390 - val_accuracy: 0.7700 - 9s/epoch - 23ms/step\n",
            "Epoch 14/60\n",
            "400/400 - 11s - loss: 0.6439 - accuracy: 0.7367 - val_loss: 0.6172 - val_accuracy: 0.7136 - 11s/epoch - 27ms/step\n",
            "Epoch 15/60\n",
            "400/400 - 12s - loss: 0.6330 - accuracy: 0.7175 - val_loss: 0.6323 - val_accuracy: 0.6579 - 12s/epoch - 29ms/step\n",
            "Epoch 16/60\n",
            "400/400 - 11s - loss: 0.7300 - accuracy: 0.7292 - val_loss: 0.7850 - val_accuracy: 0.6357 - 11s/epoch - 28ms/step\n",
            "Epoch 17/60\n",
            "400/400 - 11s - loss: 0.5707 - accuracy: 0.7867 - val_loss: 0.4785 - val_accuracy: 0.7993 - 11s/epoch - 29ms/step\n",
            "Epoch 18/60\n",
            "400/400 - 8s - loss: 0.7195 - accuracy: 0.7383 - val_loss: 0.4988 - val_accuracy: 0.7464 - 8s/epoch - 21ms/step\n",
            "Epoch 19/60\n",
            "400/400 - 7s - loss: 0.5541 - accuracy: 0.7500 - val_loss: 0.5527 - val_accuracy: 0.7614 - 7s/epoch - 17ms/step\n",
            "Epoch 20/60\n",
            "400/400 - 6s - loss: 0.5071 - accuracy: 0.7808 - val_loss: 0.4105 - val_accuracy: 0.8414 - 6s/epoch - 14ms/step\n",
            "Epoch 21/60\n",
            "400/400 - 6s - loss: 0.4485 - accuracy: 0.8217 - val_loss: 0.4118 - val_accuracy: 0.8614 - 6s/epoch - 16ms/step\n",
            "Epoch 22/60\n",
            "400/400 - 6s - loss: 0.4081 - accuracy: 0.8250 - val_loss: 0.4242 - val_accuracy: 0.7779 - 6s/epoch - 15ms/step\n",
            "Epoch 23/60\n",
            "400/400 - 6s - loss: 0.4120 - accuracy: 0.8200 - val_loss: 0.4176 - val_accuracy: 0.8593 - 6s/epoch - 14ms/step\n",
            "Epoch 24/60\n",
            "400/400 - 6s - loss: 0.3596 - accuracy: 0.8508 - val_loss: 0.7406 - val_accuracy: 0.6521 - 6s/epoch - 15ms/step\n",
            "Epoch 25/60\n",
            "400/400 - 6s - loss: 0.4312 - accuracy: 0.8233 - val_loss: 0.3348 - val_accuracy: 0.8607 - 6s/epoch - 14ms/step\n",
            "Epoch 26/60\n",
            "400/400 - 7s - loss: 0.3499 - accuracy: 0.8608 - val_loss: 0.4088 - val_accuracy: 0.7836 - 7s/epoch - 18ms/step\n",
            "Epoch 27/60\n",
            "400/400 - 5s - loss: 0.3715 - accuracy: 0.8383 - val_loss: 0.3209 - val_accuracy: 0.8493 - 5s/epoch - 14ms/step\n",
            "Epoch 28/60\n",
            "400/400 - 8s - loss: 0.3391 - accuracy: 0.8608 - val_loss: 0.2885 - val_accuracy: 0.8936 - 8s/epoch - 20ms/step\n",
            "Epoch 29/60\n",
            "400/400 - 11s - loss: 0.4649 - accuracy: 0.8067 - val_loss: 0.3868 - val_accuracy: 0.8557 - 11s/epoch - 27ms/step\n",
            "Epoch 30/60\n",
            "400/400 - 11s - loss: 0.3433 - accuracy: 0.8558 - val_loss: 0.2746 - val_accuracy: 0.9129 - 11s/epoch - 26ms/step\n",
            "Epoch 31/60\n",
            "400/400 - 9s - loss: 0.3830 - accuracy: 0.8442 - val_loss: 0.2811 - val_accuracy: 0.9129 - 9s/epoch - 21ms/step\n",
            "Epoch 32/60\n",
            "400/400 - 8s - loss: 0.3321 - accuracy: 0.8658 - val_loss: 0.2968 - val_accuracy: 0.8957 - 8s/epoch - 20ms/step\n",
            "Epoch 33/60\n",
            "400/400 - 7s - loss: 0.3017 - accuracy: 0.8775 - val_loss: 0.2801 - val_accuracy: 0.8957 - 7s/epoch - 17ms/step\n",
            "Epoch 34/60\n",
            "400/400 - 8s - loss: 0.3270 - accuracy: 0.8733 - val_loss: 0.2654 - val_accuracy: 0.8857 - 8s/epoch - 20ms/step\n",
            "Epoch 35/60\n",
            "400/400 - 10s - loss: 0.2916 - accuracy: 0.8808 - val_loss: 0.5792 - val_accuracy: 0.7264 - 10s/epoch - 25ms/step\n",
            "Epoch 36/60\n",
            "400/400 - 9s - loss: 0.3209 - accuracy: 0.8658 - val_loss: 0.2284 - val_accuracy: 0.9150 - 9s/epoch - 23ms/step\n",
            "Epoch 37/60\n",
            "400/400 - 7s - loss: 0.2989 - accuracy: 0.8775 - val_loss: 0.2494 - val_accuracy: 0.9050 - 7s/epoch - 17ms/step\n",
            "Epoch 38/60\n",
            "400/400 - 9s - loss: 0.3046 - accuracy: 0.8800 - val_loss: 0.2634 - val_accuracy: 0.9036 - 9s/epoch - 24ms/step\n",
            "Epoch 39/60\n",
            "400/400 - 7s - loss: 0.3178 - accuracy: 0.8633 - val_loss: 0.3162 - val_accuracy: 0.8621 - 7s/epoch - 17ms/step\n",
            "Epoch 40/60\n",
            "400/400 - 9s - loss: 0.2700 - accuracy: 0.8817 - val_loss: 0.2103 - val_accuracy: 0.9350 - 9s/epoch - 21ms/step\n",
            "Epoch 41/60\n",
            "400/400 - 8s - loss: 0.2602 - accuracy: 0.8967 - val_loss: 0.2054 - val_accuracy: 0.9371 - 8s/epoch - 20ms/step\n",
            "Epoch 42/60\n",
            "400/400 - 9s - loss: 0.2956 - accuracy: 0.8808 - val_loss: 0.2965 - val_accuracy: 0.8464 - 9s/epoch - 21ms/step\n",
            "Epoch 43/60\n",
            "400/400 - 7s - loss: 0.2465 - accuracy: 0.8917 - val_loss: 0.2878 - val_accuracy: 0.8893 - 7s/epoch - 17ms/step\n",
            "Epoch 44/60\n",
            "400/400 - 9s - loss: 0.2692 - accuracy: 0.8758 - val_loss: 0.2841 - val_accuracy: 0.8786 - 9s/epoch - 23ms/step\n",
            "Epoch 45/60\n",
            "400/400 - 9s - loss: 0.2303 - accuracy: 0.9125 - val_loss: 0.5355 - val_accuracy: 0.7593 - 9s/epoch - 21ms/step\n",
            "Epoch 46/60\n",
            "400/400 - 7s - loss: 0.2516 - accuracy: 0.8925 - val_loss: 0.2864 - val_accuracy: 0.8636 - 7s/epoch - 19ms/step\n",
            "Epoch 47/60\n",
            "400/400 - 8s - loss: 0.2465 - accuracy: 0.9017 - val_loss: 0.5345 - val_accuracy: 0.7464 - 8s/epoch - 21ms/step\n",
            "Epoch 48/60\n",
            "400/400 - 6s - loss: 0.2432 - accuracy: 0.8958 - val_loss: 0.2218 - val_accuracy: 0.9136 - 6s/epoch - 15ms/step\n",
            "Epoch 49/60\n",
            "400/400 - 11s - loss: 0.2324 - accuracy: 0.9125 - val_loss: 0.1916 - val_accuracy: 0.9400 - 11s/epoch - 28ms/step\n",
            "Epoch 50/60\n",
            "400/400 - 6s - loss: 0.2965 - accuracy: 0.8700 - val_loss: 0.3799 - val_accuracy: 0.8186 - 6s/epoch - 14ms/step\n",
            "Epoch 51/60\n",
            "400/400 - 7s - loss: 0.2252 - accuracy: 0.9083 - val_loss: 0.3334 - val_accuracy: 0.8721 - 7s/epoch - 17ms/step\n",
            "Epoch 52/60\n",
            "400/400 - 5s - loss: 0.2625 - accuracy: 0.8933 - val_loss: 0.2128 - val_accuracy: 0.9086 - 5s/epoch - 13ms/step\n",
            "Epoch 53/60\n",
            "400/400 - 8s - loss: 0.2218 - accuracy: 0.9008 - val_loss: 0.2969 - val_accuracy: 0.8629 - 8s/epoch - 21ms/step\n",
            "Epoch 54/60\n",
            "400/400 - 9s - loss: 0.2430 - accuracy: 0.8992 - val_loss: 0.2499 - val_accuracy: 0.8943 - 9s/epoch - 22ms/step\n",
            "Epoch 55/60\n",
            "400/400 - 7s - loss: 0.2049 - accuracy: 0.9133 - val_loss: 0.2257 - val_accuracy: 0.9121 - 7s/epoch - 16ms/step\n",
            "Epoch 56/60\n",
            "400/400 - 12s - loss: 0.1961 - accuracy: 0.9225 - val_loss: 0.2614 - val_accuracy: 0.8964 - 12s/epoch - 31ms/step\n",
            "Epoch 57/60\n",
            "400/400 - 10s - loss: 0.2227 - accuracy: 0.9042 - val_loss: 0.2035 - val_accuracy: 0.9171 - 10s/epoch - 25ms/step\n",
            "Epoch 58/60\n",
            "400/400 - 11s - loss: 0.1899 - accuracy: 0.9167 - val_loss: 0.2665 - val_accuracy: 0.8879 - 11s/epoch - 27ms/step\n",
            "Epoch 59/60\n",
            "400/400 - 10s - loss: 0.2394 - accuracy: 0.8983 - val_loss: 0.3792 - val_accuracy: 0.8364 - 10s/epoch - 26ms/step\n",
            "Epoch 60/60\n",
            "400/400 - 10s - loss: 0.2503 - accuracy: 0.8933 - val_loss: 0.1966 - val_accuracy: 0.9186 - 10s/epoch - 26ms/step\n"
          ]
        }
      ],
      "source": [
        "history = cnn_model.fit(features_training,\n",
        "                        label_training,\n",
        "                        epochs=epochs,\n",
        "                        batch_size=batch_size,\n",
        "                        validation_data=(features_validation, label_validation),\n",
        "                        verbose=2)"
      ]
    },
    {
      "cell_type": "code",
      "execution_count": null,
      "metadata": {
        "colab": {
          "base_uri": "https://localhost:8080/"
        },
        "id": "4TmyAaOKePON",
        "outputId": "2964af66-4d51-4721-bbfc-8f625a0a660a"
      },
      "outputs": [
        {
          "output_type": "stream",
          "name": "stdout",
          "text": [
            "Model: \"sequential\"\n",
            "_________________________________________________________________\n",
            " Layer (type)                Output Shape              Param #   \n",
            "=================================================================\n",
            " dense (Dense)               (None, 1024)              197632    \n",
            "                                                                 \n",
            " dense_1 (Dense)             (None, 512)               524800    \n",
            "                                                                 \n",
            " dense_2 (Dense)             (None, 256)               131328    \n",
            "                                                                 \n",
            " dense_3 (Dense)             (None, 128)               32896     \n",
            "                                                                 \n",
            " dense_4 (Dense)             (None, 64)                8256      \n",
            "                                                                 \n",
            " dense_5 (Dense)             (None, 8)                 520       \n",
            "                                                                 \n",
            "=================================================================\n",
            "Total params: 895,432\n",
            "Trainable params: 895,432\n",
            "Non-trainable params: 0\n",
            "_________________________________________________________________\n"
          ]
        }
      ],
      "source": [
        "cnn_model.summary()"
      ]
    },
    {
      "cell_type": "code",
      "execution_count": null,
      "metadata": {
        "colab": {
          "base_uri": "https://localhost:8080/"
        },
        "id": "1hwGnD3yeYFd",
        "outputId": "c30bfa81-6b09-473f-f508-9b9be9663a43"
      },
      "outputs": [
        {
          "output_type": "stream",
          "name": "stdout",
          "text": [
            "Training Accuracy:  0.9391666650772095\n",
            "Training Cross Entropy: 0.15\n",
            "Testing Accuracy:  0.9178571701049805\n",
            "Testing Cross Entropy: 0.25\n",
            "Validation Accuracy:  0.918571412563324\n",
            "Validation Cross Entropy: 0.20\n"
          ]
        }
      ],
      "source": [
        "cnn_score_train = cnn_model.evaluate(features_training, label_training, verbose=0)\n",
        "print(\"Training Accuracy: \", cnn_score_train[1])\n",
        "print(\"Training Cross Entropy: %.2f\" % cnn_score_train[0])\n",
        "\n",
        "cnn_score_test = cnn_model.evaluate(features_testing, label_testing, verbose=0)\n",
        "print(\"Testing Accuracy: \", cnn_score_test[1])\n",
        "print(\"Testing Cross Entropy: %.2f\" % cnn_score_test[0])\n",
        "\n",
        "cnn_score_valid = cnn_model.evaluate(features_validation, label_validation, verbose=0)\n",
        "print(\"Validation Accuracy: \", cnn_score_valid[1])\n",
        "print(\"Validation Cross Entropy: %.2f\" % cnn_score_valid[0])"
      ]
    },
    {
      "cell_type": "code",
      "execution_count": null,
      "metadata": {
        "id": "z3nYaqMseq2l"
      },
      "outputs": [],
      "source": [
        "cnn_label_validation_prediction = cnn_model.predict(features_validation)\n",
        "cnn_label_validation_prediction = np.argmax(cnn_label_validation_prediction, axis=1)"
      ]
    },
    {
      "cell_type": "code",
      "execution_count": null,
      "metadata": {
        "colab": {
          "base_uri": "https://localhost:8080/",
          "height": 516
        },
        "id": "EWJZrF-8fAHc",
        "outputId": "244c141a-90cf-4cc5-a086-c7a7496cabfb"
      },
      "outputs": [
        {
          "output_type": "display_data",
          "data": {
            "text/plain": [
              "<Figure size 640x480 with 2 Axes>"
            ],
            "image/png": "[encoded data removed]"
          },
          "metadata": {}
        }
      ],
      "source": [
        "cnn_cm = confusion_matrix(label_validation, cnn_label_validation_prediction)\n",
        "plot_confusion_matrix(cnn_cm)"
      ]
    },
    {
      "cell_type": "markdown",
      "source": [
        "### **Random Forest Classifier (RFC)**"
      ],
      "metadata": {
        "id": "hHDiuIFHqEvN"
      }
    },
    {
      "cell_type": "markdown",
      "source": [
        "The Random Forest Classifier (RFC) is a machine learning model that belongs to the ensemble learning family. It combines multiple decision tree classifiers to create a more robust and accurate predictive model. Each decision tree in the random forest is built using a random subset of the training data and a random subset of the input features.  \n",
        "During training, the RFC randomly selects subsets of the training data with replacement. This means that some instances may be selected multiple times, while others may not be selected at all. This random selection process helps introduce diversity in the individual decision trees. Number of these subsets is parameterized with n_estimators. For each subset of the training data, an individual decision tree is constructed.  \n",
        "Once all the decision trees are constructed, the RFC combines their predictions to make the final classification decision. For classification tasks, the RFC typically uses a majority voting approach, where each tree \"votes\" for a class label, and the class with the most votes is selected as the final prediction."
      ],
      "metadata": {
        "id": "lxEEJECfraXg"
      }
    },
    {
      "cell_type": "code",
      "execution_count": null,
      "metadata": {
        "id": "EFwbzb8spxzO"
      },
      "outputs": [],
      "source": [
        "rfc_model = RandomForestClassifier(n_estimators=500)\n",
        "rfc_model = rfc_model.fit(features_training, label_training)"
      ]
    },
    {
      "cell_type": "code",
      "execution_count": null,
      "metadata": {
        "id": "0cMFSp2TqL3_"
      },
      "outputs": [],
      "source": [
        "rfc_label_training_prediction = rfc_model.predict(features_training)\n",
        "rfc_label_testing_prediction = rfc_model.predict(features_testing)\n",
        "rfc_label_validation_prediction = rfc_model.predict(features_validation)"
      ]
    },
    {
      "cell_type": "code",
      "execution_count": null,
      "metadata": {
        "colab": {
          "base_uri": "https://localhost:8080/"
        },
        "id": "6578JBwaqbFm",
        "outputId": "bcdb5113-f4bf-4272-c5a8-799c3acf0cbf"
      },
      "outputs": [
        {
          "output_type": "stream",
          "name": "stdout",
          "text": [
            "Training Accuracy 1.0\n",
            "Testing  Accuracy 0.7135714285714285\n",
            "Validation  Accuracy 0.7428571428571429\n"
          ]
        }
      ],
      "source": [
        "print('Training Accuracy', np.mean(rfc_label_training_prediction==label_training))\n",
        "print('Testing  Accuracy', np.mean(rfc_label_testing_prediction==label_testing))\n",
        "print('Validation  Accuracy', np.mean(rfc_label_validation_prediction==label_validation))"
      ]
    },
    {
      "cell_type": "code",
      "execution_count": null,
      "metadata": {
        "colab": {
          "base_uri": "https://localhost:8080/",
          "height": 516
        },
        "id": "baviskbsqrhL",
        "outputId": "e7e8ff17-ea66-46c7-a417-c5c48887599b"
      },
      "outputs": [
        {
          "output_type": "display_data",
          "data": {
            "text/plain": [
              "<Figure size 640x480 with 2 Axes>"
            ],
            "image/png": "[encoded data removed]"
          },
          "metadata": {}
        }
      ],
      "source": [
        "rfc_cm = confusion_matrix(label_validation, rfc_label_validation_prediction)\n",
        "plot_confusion_matrix(rfc_cm)"
      ]
    },
    {
      "cell_type": "markdown",
      "source": [
        "***\n",
        "\n",
        "## **Conclusion**"
      ],
      "metadata": {
        "id": "A_2m8mKOr1X0"
      }
    },
    {
      "cell_type": "markdown",
      "source": [
        "**SVC model** was trained with a regularization parameter C = 1. The model was evaluated using testing and validation datasets, and it achieved an impressive **accuracy of 99%** on both datasets. This high accuracy suggests that the SVC model is performing exceptionally well in classifying the unseen data, with only a very small percentage of misclassifications.   \n",
        "It's important to note that such high accuracy may indicate a good fit of the model, but it is also essential to consider potential overfitting. Hovewer, testing model again on larger dataset and maintaining its accurracy, allowed us to conclude that model has trained very well and can generalize its knolewdge to classify unseen data.\n",
        "\n"
      ],
      "metadata": {
        "id": "7J7Esbyor4pw"
      }
    },
    {
      "cell_type": "markdown",
      "source": [
        "**CNN model** was trained within 60 epochs, batch size equal to 3 and Adam optimizer (with learning rate of 0.001, β<sub>1</sub> = 0.9 and β<sub>2</sub> = 0.999). Model was defined as sequential model with 6 dense layers. Every layer had half as many units as the previous one with the first one having 1024 and the last one 8 (equal to number of classes). Every layer used ReLu actiovation function, except last layer, where softmax was used.  \n",
        "We modified different parameters like number of epochs, batch size, learning rate, betas and layers. By increasing the epochs or batch size, we ended up with model that was progressing at much slower rate. If we changed learning rate or betas, model was underperforming with very low accuracy.   \n",
        "This model achieved **accuracy of 91.7%** in both testing and validation phase.\n"
      ],
      "metadata": {
        "id": "sZu7aTk5sR5R"
      }
    },
    {
      "cell_type": "markdown",
      "source": [
        "**RFC model** was trained with 10k-20k estimators. During training, model achieved training accuracy of 100%, indicating that it performed extremely well on the training data.  \n",
        "We concluded that we cannot influence possible model overfiting with number of estimators, but that models trained on larger datasets (about 4000 samples) perform much better, with  **accuracy of 74.85%**  in validation phase.  \n",
        " The high testing accuracy of 100% indicates that the model memorized the training data, including its noise and outliers. This level of overfitting is causing poor performance on the validation data, as the model fails to capture the true underlying patterns of the data.\n"
      ],
      "metadata": {
        "id": "Ya4RqgHzsvw8"
      }
    }
  ],
  "metadata": {
    "accelerator": "GPU",
    "colab": {
      "provenance": []
    },
    "kernelspec": {
      "display_name": "Python 3",
      "name": "python3"
    },
    "language_info": {
      "name": "python"
    }
  },
  "nbformat": 4,
  "nbformat_minor": 0
}
